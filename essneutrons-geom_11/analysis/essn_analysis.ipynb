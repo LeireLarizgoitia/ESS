{
 "cells": [
  {
   "cell_type": "markdown",
   "metadata": {},
   "source": [
    "# Analysis: ESS neutron simulations"
   ]
  },
  {
   "cell_type": "code",
   "execution_count": 1,
   "metadata": {},
   "outputs": [],
   "source": [
    "import h5py\n",
    "import tables as tb\n",
    "import numpy as np\n",
    "import matplotlib.pyplot as plt\n",
    "from matplotlib import patches\n",
    "import pandas as pd\n",
    "import scipy.ndimage.filters as spfil"
   ]
  },
  {
   "cell_type": "code",
   "execution_count": 2,
   "metadata": {},
   "outputs": [],
   "source": [
    "def read_hdf5_to_df(fname):\n",
    "    \"\"\"\n",
    "    Reads an output HDF5 file from the Geant4 simulation into a Pandas DataFrame.\n",
    "    \"\"\"\n",
    "    \n",
    "    # Open the file and get the ntuple.\n",
    "    fn = h5py.File(fname,'r')\n",
    "    ntuple = fn['default_ntuples']['essn']\n",
    "    \n",
    "    # Fill a dictionary with the ntuple column values.\n",
    "    df_values = {}\n",
    "    for col in list(ntuple):\n",
    "\n",
    "        # Only process H5 groups with actual data.\n",
    "        if(isinstance(ntuple[col],h5py._hl.group.Group)):\n",
    "            #print(\"Adding column\",col,\"...\")\n",
    "            if(ntuple[col]['pages'].dtype == object):\n",
    "                df_values[col] = [x.decode('utf-8') for x in ntuple[col]['pages'][:]]\n",
    "            else:\n",
    "                df_values[col] = ntuple[col]['pages'][:]\n",
    "             \n",
    "    # Create the dataframe.\n",
    "    df = pd.DataFrame.from_dict(df_values)\n",
    "    \n",
    "    # Add composite columns.\n",
    "    ri = (df.xi**2 + df.yi**2 + df.zi**2)**0.5\n",
    "    rf = (df.xf**2 + df.yf**2 + df.zf**2)**0.5\n",
    "    Ki = (df.pxi**2 + df.pyi**2 + df.pzi**2 + df.mass**2)**0.5 - df.mass\n",
    "    Kf = (df.pxf**2 + df.pyf**2 + df.pzf**2 + df.mass**2)**0.5 - df.mass\n",
    "    \n",
    "    df['ri'] = ri  # initial radius\n",
    "    df['rf'] = rf  # final radius\n",
    "    df['Ki'] = Ki  # initial kinetic energy\n",
    "    df['Kf'] = Kf  # final kinetic energy\n",
    "    \n",
    "    return df\n",
    "\n",
    "def read_hdf5_histo(fname):\n",
    "    \n",
    "    fn = h5py.File(fname,'r')\n",
    "    hh = fn['default_histograms']['wenergy0']"
   ]
  },
  {
   "cell_type": "code",
   "execution_count": 2,
   "metadata": {},
   "outputs": [],
   "source": [
    "fn = h5py.File(\"/home/jrenner/local/ESS/build/essn_output.hdf5\")"
   ]
  },
  {
   "cell_type": "code",
   "execution_count": 57,
   "metadata": {
    "scrolled": true
   },
   "outputs": [],
   "source": [
    "hh = np.array(fn['default_histograms']['wenergy1120']['bin_Sw2'][:])"
   ]
  },
  {
   "cell_type": "code",
   "execution_count": 53,
   "metadata": {},
   "outputs": [
    {
     "data": {
      "text/plain": [
       "0.0"
      ]
     },
     "execution_count": 53,
     "metadata": {},
     "output_type": "execute_result"
    }
   ],
   "source": [
    "fn['default_histograms']['wenergy1000']['bin_Sx2w_elem_12'][0]"
   ]
  },
  {
   "cell_type": "code",
   "execution_count": 54,
   "metadata": {},
   "outputs": [
    {
     "data": {
      "text/plain": [
       "<KeysViewHDF5 ['annotations_elem_0_first', 'annotations_elem_0_secon', 'annotations_size', 'axis_0_bin_width', 'axis_0_edges_size', 'axis_0_fixed', 'axis_0_maximum_value', 'axis_0_minimum_value', 'axis_0_number_of_bins', 'axis_0_offset', 'bin_Sw', 'bin_Sw2', 'bin_Sw2_size', 'bin_Sw_size', 'bin_Sx2w_elem_0', 'bin_Sx2w_elem_0_size', 'bin_Sx2w_elem_1', 'bin_Sx2w_elem_10', 'bin_Sx2w_elem_100', 'bin_Sx2w_elem_100_size', 'bin_Sx2w_elem_101', 'bin_Sx2w_elem_101_size', 'bin_Sx2w_elem_10_size', 'bin_Sx2w_elem_11', 'bin_Sx2w_elem_11_size', 'bin_Sx2w_elem_12', 'bin_Sx2w_elem_12_size', 'bin_Sx2w_elem_13', 'bin_Sx2w_elem_13_size', 'bin_Sx2w_elem_14', 'bin_Sx2w_elem_14_size', 'bin_Sx2w_elem_15', 'bin_Sx2w_elem_15_size', 'bin_Sx2w_elem_16', 'bin_Sx2w_elem_16_size', 'bin_Sx2w_elem_17', 'bin_Sx2w_elem_17_size', 'bin_Sx2w_elem_18', 'bin_Sx2w_elem_18_size', 'bin_Sx2w_elem_19', 'bin_Sx2w_elem_19_size', 'bin_Sx2w_elem_1_size', 'bin_Sx2w_elem_2', 'bin_Sx2w_elem_20', 'bin_Sx2w_elem_20_size', 'bin_Sx2w_elem_21', 'bin_Sx2w_elem_21_size', 'bin_Sx2w_elem_22', 'bin_Sx2w_elem_22_size', 'bin_Sx2w_elem_23', 'bin_Sx2w_elem_23_size', 'bin_Sx2w_elem_24', 'bin_Sx2w_elem_24_size', 'bin_Sx2w_elem_25', 'bin_Sx2w_elem_25_size', 'bin_Sx2w_elem_26', 'bin_Sx2w_elem_26_size', 'bin_Sx2w_elem_27', 'bin_Sx2w_elem_27_size', 'bin_Sx2w_elem_28', 'bin_Sx2w_elem_28_size', 'bin_Sx2w_elem_29', 'bin_Sx2w_elem_29_size', 'bin_Sx2w_elem_2_size', 'bin_Sx2w_elem_3', 'bin_Sx2w_elem_30', 'bin_Sx2w_elem_30_size', 'bin_Sx2w_elem_31', 'bin_Sx2w_elem_31_size', 'bin_Sx2w_elem_32', 'bin_Sx2w_elem_32_size', 'bin_Sx2w_elem_33', 'bin_Sx2w_elem_33_size', 'bin_Sx2w_elem_34', 'bin_Sx2w_elem_34_size', 'bin_Sx2w_elem_35', 'bin_Sx2w_elem_35_size', 'bin_Sx2w_elem_36', 'bin_Sx2w_elem_36_size', 'bin_Sx2w_elem_37', 'bin_Sx2w_elem_37_size', 'bin_Sx2w_elem_38', 'bin_Sx2w_elem_38_size', 'bin_Sx2w_elem_39', 'bin_Sx2w_elem_39_size', 'bin_Sx2w_elem_3_size', 'bin_Sx2w_elem_4', 'bin_Sx2w_elem_40', 'bin_Sx2w_elem_40_size', 'bin_Sx2w_elem_41', 'bin_Sx2w_elem_41_size', 'bin_Sx2w_elem_42', 'bin_Sx2w_elem_42_size', 'bin_Sx2w_elem_43', 'bin_Sx2w_elem_43_size', 'bin_Sx2w_elem_44', 'bin_Sx2w_elem_44_size', 'bin_Sx2w_elem_45', 'bin_Sx2w_elem_45_size', 'bin_Sx2w_elem_46', 'bin_Sx2w_elem_46_size', 'bin_Sx2w_elem_47', 'bin_Sx2w_elem_47_size', 'bin_Sx2w_elem_48', 'bin_Sx2w_elem_48_size', 'bin_Sx2w_elem_49', 'bin_Sx2w_elem_49_size', 'bin_Sx2w_elem_4_size', 'bin_Sx2w_elem_5', 'bin_Sx2w_elem_50', 'bin_Sx2w_elem_50_size', 'bin_Sx2w_elem_51', 'bin_Sx2w_elem_51_size', 'bin_Sx2w_elem_52', 'bin_Sx2w_elem_52_size', 'bin_Sx2w_elem_53', 'bin_Sx2w_elem_53_size', 'bin_Sx2w_elem_54', 'bin_Sx2w_elem_54_size', 'bin_Sx2w_elem_55', 'bin_Sx2w_elem_55_size', 'bin_Sx2w_elem_56', 'bin_Sx2w_elem_56_size', 'bin_Sx2w_elem_57', 'bin_Sx2w_elem_57_size', 'bin_Sx2w_elem_58', 'bin_Sx2w_elem_58_size', 'bin_Sx2w_elem_59', 'bin_Sx2w_elem_59_size', 'bin_Sx2w_elem_5_size', 'bin_Sx2w_elem_6', 'bin_Sx2w_elem_60', 'bin_Sx2w_elem_60_size', 'bin_Sx2w_elem_61', 'bin_Sx2w_elem_61_size', 'bin_Sx2w_elem_62', 'bin_Sx2w_elem_62_size', 'bin_Sx2w_elem_63', 'bin_Sx2w_elem_63_size', 'bin_Sx2w_elem_64', 'bin_Sx2w_elem_64_size', 'bin_Sx2w_elem_65', 'bin_Sx2w_elem_65_size', 'bin_Sx2w_elem_66', 'bin_Sx2w_elem_66_size', 'bin_Sx2w_elem_67', 'bin_Sx2w_elem_67_size', 'bin_Sx2w_elem_68', 'bin_Sx2w_elem_68_size', 'bin_Sx2w_elem_69', 'bin_Sx2w_elem_69_size', 'bin_Sx2w_elem_6_size', 'bin_Sx2w_elem_7', 'bin_Sx2w_elem_70', 'bin_Sx2w_elem_70_size', 'bin_Sx2w_elem_71', 'bin_Sx2w_elem_71_size', 'bin_Sx2w_elem_72', 'bin_Sx2w_elem_72_size', 'bin_Sx2w_elem_73', 'bin_Sx2w_elem_73_size', 'bin_Sx2w_elem_74', 'bin_Sx2w_elem_74_size', 'bin_Sx2w_elem_75', 'bin_Sx2w_elem_75_size', 'bin_Sx2w_elem_76', 'bin_Sx2w_elem_76_size', 'bin_Sx2w_elem_77', 'bin_Sx2w_elem_77_size', 'bin_Sx2w_elem_78', 'bin_Sx2w_elem_78_size', 'bin_Sx2w_elem_79', 'bin_Sx2w_elem_79_size', 'bin_Sx2w_elem_7_size', 'bin_Sx2w_elem_8', 'bin_Sx2w_elem_80', 'bin_Sx2w_elem_80_size', 'bin_Sx2w_elem_81', 'bin_Sx2w_elem_81_size', 'bin_Sx2w_elem_82', 'bin_Sx2w_elem_82_size', 'bin_Sx2w_elem_83', 'bin_Sx2w_elem_83_size', 'bin_Sx2w_elem_84', 'bin_Sx2w_elem_84_size', 'bin_Sx2w_elem_85', 'bin_Sx2w_elem_85_size', 'bin_Sx2w_elem_86', 'bin_Sx2w_elem_86_size', 'bin_Sx2w_elem_87', 'bin_Sx2w_elem_87_size', 'bin_Sx2w_elem_88', 'bin_Sx2w_elem_88_size', 'bin_Sx2w_elem_89', 'bin_Sx2w_elem_89_size', 'bin_Sx2w_elem_8_size', 'bin_Sx2w_elem_9', 'bin_Sx2w_elem_90', 'bin_Sx2w_elem_90_size', 'bin_Sx2w_elem_91', 'bin_Sx2w_elem_91_size', 'bin_Sx2w_elem_92', 'bin_Sx2w_elem_92_size', 'bin_Sx2w_elem_93', 'bin_Sx2w_elem_93_size', 'bin_Sx2w_elem_94', 'bin_Sx2w_elem_94_size', 'bin_Sx2w_elem_95', 'bin_Sx2w_elem_95_size', 'bin_Sx2w_elem_96', 'bin_Sx2w_elem_96_size', 'bin_Sx2w_elem_97', 'bin_Sx2w_elem_97_size', 'bin_Sx2w_elem_98', 'bin_Sx2w_elem_98_size', 'bin_Sx2w_elem_99', 'bin_Sx2w_elem_99_size', 'bin_Sx2w_elem_9_size', 'bin_Sx2w_size', 'bin_Sxw_elem_0', 'bin_Sxw_elem_0_size', 'bin_Sxw_elem_1', 'bin_Sxw_elem_10', 'bin_Sxw_elem_100', 'bin_Sxw_elem_100_size', 'bin_Sxw_elem_101', 'bin_Sxw_elem_101_size', 'bin_Sxw_elem_10_size', 'bin_Sxw_elem_11', 'bin_Sxw_elem_11_size', 'bin_Sxw_elem_12', 'bin_Sxw_elem_12_size', 'bin_Sxw_elem_13', 'bin_Sxw_elem_13_size', 'bin_Sxw_elem_14', 'bin_Sxw_elem_14_size', 'bin_Sxw_elem_15', 'bin_Sxw_elem_15_size', 'bin_Sxw_elem_16', 'bin_Sxw_elem_16_size', 'bin_Sxw_elem_17', 'bin_Sxw_elem_17_size', 'bin_Sxw_elem_18', 'bin_Sxw_elem_18_size', 'bin_Sxw_elem_19', 'bin_Sxw_elem_19_size', 'bin_Sxw_elem_1_size', 'bin_Sxw_elem_2', 'bin_Sxw_elem_20', 'bin_Sxw_elem_20_size', 'bin_Sxw_elem_21', 'bin_Sxw_elem_21_size', 'bin_Sxw_elem_22', 'bin_Sxw_elem_22_size', 'bin_Sxw_elem_23', 'bin_Sxw_elem_23_size', 'bin_Sxw_elem_24', 'bin_Sxw_elem_24_size', 'bin_Sxw_elem_25', 'bin_Sxw_elem_25_size', 'bin_Sxw_elem_26', 'bin_Sxw_elem_26_size', 'bin_Sxw_elem_27', 'bin_Sxw_elem_27_size', 'bin_Sxw_elem_28', 'bin_Sxw_elem_28_size', 'bin_Sxw_elem_29', 'bin_Sxw_elem_29_size', 'bin_Sxw_elem_2_size', 'bin_Sxw_elem_3', 'bin_Sxw_elem_30', 'bin_Sxw_elem_30_size', 'bin_Sxw_elem_31', 'bin_Sxw_elem_31_size', 'bin_Sxw_elem_32', 'bin_Sxw_elem_32_size', 'bin_Sxw_elem_33', 'bin_Sxw_elem_33_size', 'bin_Sxw_elem_34', 'bin_Sxw_elem_34_size', 'bin_Sxw_elem_35', 'bin_Sxw_elem_35_size', 'bin_Sxw_elem_36', 'bin_Sxw_elem_36_size', 'bin_Sxw_elem_37', 'bin_Sxw_elem_37_size', 'bin_Sxw_elem_38', 'bin_Sxw_elem_38_size', 'bin_Sxw_elem_39', 'bin_Sxw_elem_39_size', 'bin_Sxw_elem_3_size', 'bin_Sxw_elem_4', 'bin_Sxw_elem_40', 'bin_Sxw_elem_40_size', 'bin_Sxw_elem_41', 'bin_Sxw_elem_41_size', 'bin_Sxw_elem_42', 'bin_Sxw_elem_42_size', 'bin_Sxw_elem_43', 'bin_Sxw_elem_43_size', 'bin_Sxw_elem_44', 'bin_Sxw_elem_44_size', 'bin_Sxw_elem_45', 'bin_Sxw_elem_45_size', 'bin_Sxw_elem_46', 'bin_Sxw_elem_46_size', 'bin_Sxw_elem_47', 'bin_Sxw_elem_47_size', 'bin_Sxw_elem_48', 'bin_Sxw_elem_48_size', 'bin_Sxw_elem_49', 'bin_Sxw_elem_49_size', 'bin_Sxw_elem_4_size', 'bin_Sxw_elem_5', 'bin_Sxw_elem_50', 'bin_Sxw_elem_50_size', 'bin_Sxw_elem_51', 'bin_Sxw_elem_51_size', 'bin_Sxw_elem_52', 'bin_Sxw_elem_52_size', 'bin_Sxw_elem_53', 'bin_Sxw_elem_53_size', 'bin_Sxw_elem_54', 'bin_Sxw_elem_54_size', 'bin_Sxw_elem_55', 'bin_Sxw_elem_55_size', 'bin_Sxw_elem_56', 'bin_Sxw_elem_56_size', 'bin_Sxw_elem_57', 'bin_Sxw_elem_57_size', 'bin_Sxw_elem_58', 'bin_Sxw_elem_58_size', 'bin_Sxw_elem_59', 'bin_Sxw_elem_59_size', 'bin_Sxw_elem_5_size', 'bin_Sxw_elem_6', 'bin_Sxw_elem_60', 'bin_Sxw_elem_60_size', 'bin_Sxw_elem_61', 'bin_Sxw_elem_61_size', 'bin_Sxw_elem_62', 'bin_Sxw_elem_62_size', 'bin_Sxw_elem_63', 'bin_Sxw_elem_63_size', 'bin_Sxw_elem_64', 'bin_Sxw_elem_64_size', 'bin_Sxw_elem_65', 'bin_Sxw_elem_65_size', 'bin_Sxw_elem_66', 'bin_Sxw_elem_66_size', 'bin_Sxw_elem_67', 'bin_Sxw_elem_67_size', 'bin_Sxw_elem_68', 'bin_Sxw_elem_68_size', 'bin_Sxw_elem_69', 'bin_Sxw_elem_69_size', 'bin_Sxw_elem_6_size', 'bin_Sxw_elem_7', 'bin_Sxw_elem_70', 'bin_Sxw_elem_70_size', 'bin_Sxw_elem_71', 'bin_Sxw_elem_71_size', 'bin_Sxw_elem_72', 'bin_Sxw_elem_72_size', 'bin_Sxw_elem_73', 'bin_Sxw_elem_73_size', 'bin_Sxw_elem_74', 'bin_Sxw_elem_74_size', 'bin_Sxw_elem_75', 'bin_Sxw_elem_75_size', 'bin_Sxw_elem_76', 'bin_Sxw_elem_76_size', 'bin_Sxw_elem_77', 'bin_Sxw_elem_77_size', 'bin_Sxw_elem_78', 'bin_Sxw_elem_78_size', 'bin_Sxw_elem_79', 'bin_Sxw_elem_79_size', 'bin_Sxw_elem_7_size', 'bin_Sxw_elem_8', 'bin_Sxw_elem_80', 'bin_Sxw_elem_80_size', 'bin_Sxw_elem_81', 'bin_Sxw_elem_81_size', 'bin_Sxw_elem_82', 'bin_Sxw_elem_82_size', 'bin_Sxw_elem_83', 'bin_Sxw_elem_83_size', 'bin_Sxw_elem_84', 'bin_Sxw_elem_84_size', 'bin_Sxw_elem_85', 'bin_Sxw_elem_85_size', 'bin_Sxw_elem_86', 'bin_Sxw_elem_86_size', 'bin_Sxw_elem_87', 'bin_Sxw_elem_87_size', 'bin_Sxw_elem_88', 'bin_Sxw_elem_88_size', 'bin_Sxw_elem_89', 'bin_Sxw_elem_89_size', 'bin_Sxw_elem_8_size', 'bin_Sxw_elem_9', 'bin_Sxw_elem_90', 'bin_Sxw_elem_90_size', 'bin_Sxw_elem_91', 'bin_Sxw_elem_91_size', 'bin_Sxw_elem_92', 'bin_Sxw_elem_92_size', 'bin_Sxw_elem_93', 'bin_Sxw_elem_93_size', 'bin_Sxw_elem_94', 'bin_Sxw_elem_94_size', 'bin_Sxw_elem_95', 'bin_Sxw_elem_95_size', 'bin_Sxw_elem_96', 'bin_Sxw_elem_96_size', 'bin_Sxw_elem_97', 'bin_Sxw_elem_97_size', 'bin_Sxw_elem_98', 'bin_Sxw_elem_98_size', 'bin_Sxw_elem_99', 'bin_Sxw_elem_99_size', 'bin_Sxw_elem_9_size', 'bin_Sxw_size', 'bin_entries', 'bin_entries_size', 'bin_number', 'dimension', 'in_range_plane_Sxyw_size', 'title']>"
      ]
     },
     "execution_count": 54,
     "metadata": {},
     "output_type": "execute_result"
    }
   ],
   "source": [
    "fn['default_histograms']['wenergy1000'].keys()"
   ]
  },
  {
   "cell_type": "code",
   "execution_count": 58,
   "metadata": {},
   "outputs": [
    {
     "data": {
      "text/plain": [
       "array([0., 0., 0., 0., 0., 0., 0., 0., 0., 0., 0., 0., 0., 0., 0., 0., 0.,\n",
       "       0., 0., 0., 0., 0., 0., 0., 0., 0., 0., 0., 0., 0., 0., 0., 0., 0.,\n",
       "       0., 0., 0., 0., 0., 0., 0., 0., 0., 0., 0., 0., 0., 0., 0., 0., 0.,\n",
       "       0., 0., 0., 0., 0., 0., 0., 0., 0., 0., 0., 0., 0., 0., 0., 0., 0.,\n",
       "       0., 0., 0., 0., 0., 0., 0., 0., 0., 0., 0., 0., 0., 0., 0., 0., 0.,\n",
       "       0., 0., 0., 0., 0., 0., 0., 0., 0., 0., 0., 0., 0., 0., 0., 0., 0.])"
      ]
     },
     "execution_count": 58,
     "metadata": {},
     "output_type": "execute_result"
    }
   ],
   "source": [
    "hh"
   ]
  },
  {
   "cell_type": "markdown",
   "metadata": {},
   "source": [
    "### Read in the ntuple"
   ]
  },
  {
   "cell_type": "code",
   "execution_count": null,
   "metadata": {},
   "outputs": [],
   "source": [
    "!wget https://www.dropbox.com/s/vlxnyp6671qvg0z/essn_ntuple.hdf5"
   ]
  },
  {
   "cell_type": "code",
   "execution_count": null,
   "metadata": {},
   "outputs": [],
   "source": [
    "#df = read_hdf5_to_df('/home/jrenner/local/ESS/build/essn_ntuple.hdf5')\n",
    "df = read_hdf5_to_df('/home/jrenner/Dropbox/ESS/data/essn_ntuple.hdf5')\n",
    "df.head()"
   ]
  },
  {
   "cell_type": "code",
   "execution_count": null,
   "metadata": {},
   "outputs": [],
   "source": [
    "np.unique(df.event)"
   ]
  },
  {
   "cell_type": "code",
   "execution_count": null,
   "metadata": {},
   "outputs": [],
   "source": [
    "plt.hist(df.zi[(df.zi > -100) & (df.zi < 100)],bins=100)"
   ]
  },
  {
   "cell_type": "markdown",
   "metadata": {},
   "source": [
    "### Analysis: neutron energies"
   ]
  },
  {
   "cell_type": "code",
   "execution_count": null,
   "metadata": {},
   "outputs": [],
   "source": [
    "# Select gamma events that made it out of the target.\n",
    "df_neutrons_world = df[(df.particleName == 'neutron') & (df.volFinal == 'World')]\n",
    "Nprotons = len(np.unique(df.event))"
   ]
  },
  {
   "cell_type": "code",
   "execution_count": null,
   "metadata": {},
   "outputs": [],
   "source": [
    "plt.hist(np.log10(df_neutrons_world.Kf),weights=(1/Nprotons)*np.ones_like(df_neutrons_world.Kf),bins=100,histtype='step',fill=False)\n",
    "#plt.hist(df_neutrons_world.Kf,weights=(1/Nprotons)*np.ones_like(df_neutrons_world.Kf),bins=np.logspace(np.log10(0.1),np.log10(5000), 200))\n",
    "plt.xlabel('log$_{10}$(E(MeV))')\n",
    "plt.ylabel('neutrons/proton/dlog$_{10}$(E)')\n",
    "#plt.xscale(\"log\")\n",
    "plt.yscale(\"log\")"
   ]
  },
  {
   "cell_type": "markdown",
   "metadata": {},
   "source": [
    "### Analysis: weight windows"
   ]
  },
  {
   "cell_type": "code",
   "execution_count": 3,
   "metadata": {},
   "outputs": [],
   "source": [
    "def read_weights_file(fname, xCells, yCells, zCells):\n",
    "    \n",
    "    results = pd.read_csv(fname,delimiter=' ',index_col=0,header=None)\n",
    "    cell_nums = results.index.values\n",
    "    weights = results[1].values\n",
    "    errors = results[2].values\n",
    "\n",
    "    wmatrix = np.zeros([xCells,yCells,zCells])\n",
    "    ematrix = np.zeros([xCells,yCells,zCells])\n",
    "    for cell_num, weight, error in zip(cell_nums, weights, errors):\n",
    "        i = int(cell_num / (yCells*zCells))\n",
    "        j = int(cell_num / zCells) % yCells\n",
    "        k = cell_num % zCells\n",
    "\n",
    "        wmatrix[i][j][k] = weight\n",
    "        ematrix[i][j][k] = error\n",
    "        \n",
    "    return wmatrix, ematrix"
   ]
  },
  {
   "cell_type": "code",
   "execution_count": 4,
   "metadata": {},
   "outputs": [],
   "source": [
    "worldX, worldY, worldZ = 1200, 1200, 160\n",
    "xCells, yCells, zCells = 31, 31, 5\n",
    "\n",
    "BoxX = worldX/xCells/2.0\n",
    "BoxY = worldY/yCells/2.0\n",
    "BoxZ = worldZ/zCells/2.0\n",
    "\n",
    "startx = -worldX/2.0 + BoxX\n",
    "starty = -worldY/2.0 + BoxY\n",
    "startz = -worldZ/2.0 + BoxZ\n",
    "\n",
    "ri_shield = 245\n",
    "ri_concrete = 550\n",
    "rf_concrete = 600"
   ]
  },
  {
   "cell_type": "markdown",
   "metadata": {},
   "source": [
    "##### Compare flux/max_flux"
   ]
  },
  {
   "cell_type": "code",
   "execution_count": null,
   "metadata": {},
   "outputs": [],
   "source": [
    "wmatrix_pre, ematrix_pre = read_weights_file(\"/home/jrenner/local/ESS/results/run3/pre/Results_-1.txt\", xCells, yCells, zCells)\n",
    "wmatrix_it1, ematrix_it1 = read_weights_file(\"/home/jrenner/local/ESS/results/run3/it1_1000/Results_-1.txt\", xCells, yCells, zCells)\n",
    "maxval_pre = np.max(wmatrix_pre)\n",
    "maxval_it1 = np.max(wmatrix_it1)"
   ]
  },
  {
   "cell_type": "code",
   "execution_count": null,
   "metadata": {
    "scrolled": false
   },
   "outputs": [],
   "source": [
    "iz = 2 #np.argmax(np.sum(wmatrix,axis=(0,1)))\n",
    "fig = plt.figure()\n",
    "fig.set_figheight(12.0)\n",
    "fig.set_figwidth(18.0)\n",
    "\n",
    "mmatrix_pre = wmatrix_pre[:,:,iz]\n",
    "minval_pre = np.min(mmatrix_pre[mmatrix_pre > 0])\n",
    "\n",
    "mmatrix_it1 = wmatrix_it1[:,:,iz]\n",
    "minval_it1 = np.min(mmatrix_it1[mmatrix_it1 > 0])\n",
    "\n",
    "ax1 = fig.add_subplot(221, aspect='auto')\n",
    "im1 = ax1.imshow(np.log(wmatrix_pre[:,:,iz]/maxval_pre + minval_pre/maxval_pre/10.).transpose(),\n",
    "            extent=[-worldX/2.0 + BoxX,worldX/2.0 + BoxX,-worldY/2.0 + BoxY,worldY/2.0 + BoxY], \n",
    "            origin = 'lower',\n",
    "            interpolation = \"none\")\n",
    "e1c = patches.Ellipse((0, 0), ri_concrete*2, ri_concrete*2,\n",
    "                     linewidth=2, fill=False, color='white')\n",
    "e1s = patches.Ellipse((0, 0), ri_shield*2, ri_shield*2,\n",
    "                     linewidth=2, fill=False, color='blue')\n",
    "ax1.add_patch(e1c)\n",
    "ax1.add_patch(e1s)\n",
    "ax1.set_xlabel(\"x (cm)\")\n",
    "ax1.set_ylabel(\"y (cm)\")\n",
    "cbar1 = fig.colorbar(im1)\n",
    "cbar1.set_label(\"log(N)\", rotation=270)\n",
    "\n",
    "ax2 = fig.add_subplot(222, aspect='auto')\n",
    "im2 = ax2.imshow(ematrix_pre[:,:,iz].transpose(),\n",
    "            extent=[-worldX/2.0 + BoxX,worldX/2.0 + BoxX,-worldY/2.0 + BoxY,worldY/2.0 + BoxY], \n",
    "            origin = 'lower',\n",
    "            interpolation = \"none\")\n",
    "e2c = patches.Ellipse((0, 0), ri_concrete*2, ri_concrete*2,\n",
    "                     linewidth=2, fill=False, color='white')\n",
    "e2s = patches.Ellipse((0, 0), ri_shield*2, ri_shield*2,\n",
    "                     linewidth=2, fill=False, color='blue')\n",
    "ax2.add_patch(e2c)\n",
    "ax2.add_patch(e2s)\n",
    "ax2.set_xlabel(\"x (cm)\")\n",
    "ax2.set_ylabel(\"y (cm)\")\n",
    "cbar2 = fig.colorbar(im2)\n",
    "cbar2.set_label(\"error\", rotation=270)\n",
    "\n",
    "ax3 = fig.add_subplot(223, aspect='auto')\n",
    "im3 = ax3.imshow(np.log(wmatrix_it1[:,:,iz]/maxval_it1 + minval_it1/maxval_it1/10.).transpose(),\n",
    "            extent=[-worldX/2.0 + BoxX,worldX/2.0 + BoxX,-worldY/2.0 + BoxY,worldY/2.0 + BoxY], \n",
    "            origin = 'lower',\n",
    "            interpolation = \"none\")\n",
    "e3c = patches.Ellipse((0, 0), ri_concrete*2, ri_concrete*2,\n",
    "                     linewidth=2, fill=False, color='white')\n",
    "e3s = patches.Ellipse((0, 0), ri_shield*2, ri_shield*2,\n",
    "                     linewidth=2, fill=False, color='blue')\n",
    "ax3.add_patch(e3c)\n",
    "ax3.add_patch(e3s)\n",
    "ax3.set_xlabel(\"x (cm)\")\n",
    "ax3.set_ylabel(\"y (cm)\")\n",
    "cbar3 = fig.colorbar(im3)\n",
    "cbar3.set_label(\"log(N)\", rotation=270)\n",
    "\n",
    "ax4 = fig.add_subplot(224, aspect='auto')\n",
    "im4 = ax4.imshow(ematrix_it1[:,:,iz].transpose(),\n",
    "            extent=[-worldX/2.0 + BoxX,worldX/2.0 + BoxX,-worldY/2.0 + BoxY,worldY/2.0 + BoxY], \n",
    "            origin = 'lower',\n",
    "            interpolation = \"none\")\n",
    "e4c = patches.Ellipse((0, 0), ri_concrete*2, ri_concrete*2,\n",
    "                     linewidth=2, fill=False, color='white')\n",
    "e4s = patches.Ellipse((0, 0), ri_shield*2, ri_shield*2,\n",
    "                     linewidth=2, fill=False, color='blue')\n",
    "ax4.add_patch(e4c)\n",
    "ax4.add_patch(e4s)\n",
    "ax4.set_xlabel(\"x (cm)\")\n",
    "ax4.set_ylabel(\"y (cm)\")\n",
    "cbar4 = fig.colorbar(im4)\n",
    "cbar4.set_label(\"error\", rotation=270)"
   ]
  },
  {
   "cell_type": "code",
   "execution_count": null,
   "metadata": {},
   "outputs": [],
   "source": [
    "# Create a new matrix with flux/max_flux values from the matrix with the smallest error at each location.\n",
    "wmatrix_new = np.zeros([xCells,yCells,zCells])\n",
    "ematrix_new = np.zeros([xCells,yCells,zCells])\n",
    "\n",
    "wmatrix_new[(ematrix_pre < ematrix_it1)]  = wmatrix_pre[ematrix_pre < ematrix_it1]/maxval_pre\n",
    "ematrix_new[(ematrix_pre < ematrix_it1)]  = ematrix_pre[ematrix_pre < ematrix_it1]\n",
    "\n",
    "wmatrix_new[(ematrix_pre >= ematrix_it1) | (ematrix_pre == 0)] = wmatrix_it1[(ematrix_pre >= ematrix_it1) | (ematrix_pre == 0)]/maxval_it1\n",
    "ematrix_new[(ematrix_pre >= ematrix_it1) | (ematrix_pre == 0)] = ematrix_it1[(ematrix_pre >= ematrix_it1) | (ematrix_pre == 0)]"
   ]
  },
  {
   "cell_type": "code",
   "execution_count": null,
   "metadata": {
    "scrolled": false
   },
   "outputs": [],
   "source": [
    "# Examine the new flux matrix.\n",
    "iz = 2 #np.argmax(np.sum(wmatrix,axis=(0,1)))\n",
    "fig = plt.figure()\n",
    "fig.set_figheight(6.0)\n",
    "fig.set_figwidth(18.0)\n",
    "\n",
    "maxval_new = np.max(wmatrix_new)\n",
    "mmatrix_new = wmatrix_new[:,:,iz]\n",
    "minval_new = np.min(mmatrix_new[mmatrix_new > 0])\n",
    "\n",
    "ax1 = fig.add_subplot(121, aspect='auto')\n",
    "im1 = ax1.imshow(np.log(wmatrix_new[:,:,iz]/maxval_new + minval_new/maxval_new/10.).transpose(),\n",
    "            extent=[-worldX/2.0 + BoxX,worldX/2.0 + BoxX,-worldY/2.0 + BoxY,worldY/2.0 + BoxY], \n",
    "            origin = 'lower',\n",
    "            interpolation = \"none\")\n",
    "e1c = patches.Ellipse((0, 0), ri_concrete*2, ri_concrete*2,\n",
    "                     linewidth=2, fill=False, color='white')\n",
    "e1s = patches.Ellipse((0, 0), ri_shield*2, ri_shield*2,\n",
    "                     linewidth=2, fill=False, color='blue')\n",
    "ax1.add_patch(e1c)\n",
    "ax1.add_patch(e1s)\n",
    "ax1.set_xlabel(\"x (cm)\")\n",
    "ax1.set_ylabel(\"y (cm)\")\n",
    "cbar1 = fig.colorbar(im1)\n",
    "cbar1.set_label(\"log(N)\", rotation=270)\n",
    "\n",
    "ax2 = fig.add_subplot(122, aspect='auto')\n",
    "im2 = ax2.imshow(ematrix_new[:,:,iz].transpose(),\n",
    "            extent=[-worldX/2.0 + BoxX,worldX/2.0 + BoxX,-worldY/2.0 + BoxY,worldY/2.0 + BoxY], \n",
    "            origin = 'lower',\n",
    "            interpolation = \"none\")\n",
    "e2c = patches.Ellipse((0, 0), ri_concrete*2, ri_concrete*2,\n",
    "                     linewidth=2, fill=False, color='white')\n",
    "e2s = patches.Ellipse((0, 0), ri_shield*2, ri_shield*2,\n",
    "                     linewidth=2, fill=False, color='blue')\n",
    "ax2.add_patch(e2c)\n",
    "ax2.add_patch(e2s)\n",
    "ax2.set_xlabel(\"x (cm)\")\n",
    "ax2.set_ylabel(\"y (cm)\")\n",
    "cbar2 = fig.colorbar(im2)\n",
    "cbar2.set_label(\"error\", rotation=270)"
   ]
  },
  {
   "cell_type": "code",
   "execution_count": null,
   "metadata": {},
   "outputs": [],
   "source": [
    "# Write out the new matrix\n",
    "with open('matrix.dat','w') as f:\n",
    "    for icell,(wm,em) in enumerate(zip(wmatrix_new.flatten(),ematrix_new.flatten())):\n",
    "        if(wm == 0): wm = int(wm)\n",
    "        if(em == 0): em = int(em)\n",
    "        f.write(\"{} {} {}\\n\".format(icell,wm,em))"
   ]
  },
  {
   "cell_type": "markdown",
   "metadata": {},
   "source": [
    "##### Compare several matrices"
   ]
  },
  {
   "cell_type": "code",
   "execution_count": null,
   "metadata": {},
   "outputs": [],
   "source": [
    "#wmatrix_pre, ematrix_pre = read_weights_file(\"/home/jrenner/local/ESS/results/run3/pre/Results_-1.txt\", xCells, yCells, zCells)\n",
    "wmatrix_pre, ematrix_pre = read_weights_file(\"/home/jrenner/local/ESS/build/Results_-1.txt\", xCells, yCells, zCells)\n",
    "wmatrix_it1, ematrix_it1 = read_weights_file(\"/home/jrenner/local/ESS/results/run3/it1_1000/Results_-1.txt\", xCells, yCells, zCells)\n",
    "wmatrix_it2, ematrix_it2 = read_weights_file(\"/home/jrenner/local/ESS/results/run3/it2_100/Results_-1.txt\", xCells, yCells, zCells)"
   ]
  },
  {
   "cell_type": "code",
   "execution_count": null,
   "metadata": {
    "scrolled": false
   },
   "outputs": [],
   "source": [
    "# Consider projections on the y-axis.\n",
    "Nevents_pre = 200000\n",
    "Nevents_it1 = 1000\n",
    "Nevents_it2 = 100\n",
    "\n",
    "norm_pre = np.sum(wmatrix_pre)\n",
    "norm_it1 = np.sum(wmatrix_it1)\n",
    "norm_it2 = np.sum(wmatrix_it2)\n",
    "print(\"Matrix norms:\\npre =\",norm_pre,\"\\nit1 = \",norm_it1,\"\\nit2 = \",norm_it2,\"\\nratio pre/it1 = \",norm_pre/norm_it1,\"\\nratio pre/it2 = \",norm_pre/norm_it2)\n",
    "\n",
    "ematrix_pre[ematrix_pre == 0] = np.nan\n",
    "ematrix_it1[ematrix_it1 == 0] = np.nan\n",
    "\n",
    "yproj_pre = np.mean(wmatrix_pre/Nevents_pre,axis=(0,2))\n",
    "yproj_it1 = np.mean(wmatrix_it1/Nevents_it1,axis=(0,2))\n",
    "yproj_pre_err = np.nanmean(ematrix_pre*(wmatrix_pre/Nevents_pre),axis=(0,2))\n",
    "yproj_it1_err = np.nanmean(ematrix_it1*(wmatrix_it1/Nevents_it1),axis=(0,2))\n",
    "yvals = np.linspace(-worldY/2, worldY/2, len(yproj_pre))\n",
    "plt.errorbar(yvals,yproj_pre,yerr=yproj_pre_err)\n",
    "plt.errorbar(yvals,yproj_it1,yerr=yproj_it1_err)\n",
    "#plt.xlim([-300,300])\n",
    "plt.ylim([0,0.2])\n",
    "#plt.yscale(\"log\")\n",
    "# print(\"yvals\",len(yvals),\"matrix\",len(yproj_pre))\n",
    "# print(np.nanmean(ematrix_pre,axis=(0,2)))\n",
    "# print(np.nanmean(wmatrix_pre/Nevents_pre,axis=(0,2)))"
   ]
  },
  {
   "cell_type": "code",
   "execution_count": null,
   "metadata": {},
   "outputs": [],
   "source": [
    "plt.plot(yvals,np.nanmean(ematrix_it1,axis=(0,2)))"
   ]
  },
  {
   "cell_type": "markdown",
   "metadata": {},
   "source": [
    "##### Plot a single matrix"
   ]
  },
  {
   "cell_type": "code",
   "execution_count": 5,
   "metadata": {},
   "outputs": [],
   "source": [
    "wmatrix, ematrix = read_weights_file(\"/home/jrenner/local/ESS/results/run5/pre_200k/Results_-1.txt\", xCells, yCells, zCells)"
   ]
  },
  {
   "cell_type": "code",
   "execution_count": 6,
   "metadata": {
    "scrolled": true
   },
   "outputs": [
    {
     "name": "stderr",
     "output_type": "stream",
     "text": [
      "/home/jrenner/miniconda3/envs/tf2/lib/python3.7/site-packages/ipykernel_launcher.py:9: RuntimeWarning: divide by zero encountered in true_divide\n",
      "  if __name__ == '__main__':\n"
     ]
    },
    {
     "data": {
      "image/png": "[encoded data removed]",
      "text/plain": [
       "<Figure size 1296x432 with 4 Axes>"
      ]
     },
     "metadata": {
      "needs_background": "light"
     },
     "output_type": "display_data"
    }
   ],
   "source": [
    "iz = 3 #np.argmax(np.sum(wmatrix,axis=(0,1)))\n",
    "fig = plt.figure()\n",
    "fig.set_figheight(6.0)\n",
    "fig.set_figwidth(18.0)\n",
    "\n",
    "mmatrix = wmatrix[:,:,iz]\n",
    "minval = np.min(mmatrix[mmatrix > 0])\n",
    "cutmatrix = np.zeros(mmatrix.shape)\n",
    "cut = np.abs((1./mmatrix) - 2.5024e9) < 1e8\n",
    "cutmatrix[cut] = mmatrix[cut]\n",
    "\n",
    "ax1 = fig.add_subplot(121, aspect='auto')\n",
    "im1 = ax1.imshow(np.log10(mmatrix + minval/10.).transpose(),\n",
    "            extent=[-worldX/2.0 + BoxX,worldX/2.0 + BoxX,-worldY/2.0 + BoxY,worldY/2.0 + BoxY], \n",
    "            origin = 'lower',\n",
    "            interpolation = \"none\")\n",
    "e1c = patches.Ellipse((0, 0), ri_concrete*2, ri_concrete*2,\n",
    "                     linewidth=2, fill=False, color='white')\n",
    "e1s = patches.Ellipse((0, 0), ri_shield*2, ri_shield*2,\n",
    "                     linewidth=2, fill=False, color='blue')\n",
    "ax1.add_patch(e1c)\n",
    "ax1.add_patch(e1s)\n",
    "ax1.set_xlabel(\"x (cm)\")\n",
    "ax1.set_ylabel(\"y (cm)\")\n",
    "cbar1 = fig.colorbar(im1)\n",
    "cbar1.set_label(\"log(N)\", rotation=270)\n",
    "\n",
    "ax2 = fig.add_subplot(122, aspect='auto')\n",
    "im2 = ax2.imshow(ematrix[:,:,iz].transpose(),\n",
    "            extent=[-worldX/2.0 + BoxX,worldX/2.0 + BoxX,-worldY/2.0 + BoxY,worldY/2.0 + BoxY], \n",
    "            origin = 'lower',\n",
    "            interpolation = \"none\")\n",
    "e2c = patches.Ellipse((0, 0), ri_concrete*2, ri_concrete*2,\n",
    "                     linewidth=2, fill=False, color='white')\n",
    "e2s = patches.Ellipse((0, 0), ri_shield*2, ri_shield*2,\n",
    "                     linewidth=2, fill=False, color='blue')\n",
    "ax2.add_patch(e2c)\n",
    "ax2.add_patch(e2s)\n",
    "ax2.set_xlabel(\"x (cm)\")\n",
    "ax2.set_ylabel(\"y (cm)\")\n",
    "cbar2 = fig.colorbar(im2)\n",
    "cbar2.set_label(\"error\", rotation=270)\n",
    "#ax2.set_title(\"Thread-safe\")"
   ]
  },
  {
   "cell_type": "markdown",
   "metadata": {},
   "source": [
    "##### Smooth the distribution"
   ]
  },
  {
   "cell_type": "code",
   "execution_count": null,
   "metadata": {
    "scrolled": true
   },
   "outputs": [],
   "source": [
    "wsmoothed = spfil.gaussian_filter(wmatrix,1.0)\n",
    "iz = np.argmax(np.sum(wsmoothed,axis=(0,1)))\n",
    "fig = plt.figure()\n",
    "fig.set_figheight(6.0)\n",
    "fig.set_figwidth(18.0)\n",
    "\n",
    "mmatrix = wsmoothed[:,:,iz]\n",
    "minval = np.min(wsmoothed[mmatrix > 0])\n",
    "\n",
    "ax1 = fig.add_subplot(121, aspect='auto')\n",
    "im1 = ax1.imshow(np.log(wsmoothed[:,:,iz] + minval/10.).transpose(),\n",
    "            extent=[-worldX/2.0 + BoxX,worldX/2.0 + BoxX,-worldY/2.0 + BoxY,worldY/2.0 + BoxY], \n",
    "            origin = 'lower',\n",
    "            interpolation = \"none\")\n",
    "\n",
    "e1c = patches.Ellipse((0, 0), ri_concrete*2, ri_concrete*2,\n",
    "                     linewidth=2, fill=False, color='white')\n",
    "e1s = patches.Ellipse((0, 0), ri_shield*2, ri_shield*2,\n",
    "                     linewidth=2, fill=False, color='blue')\n",
    "ax1.add_patch(e1c)\n",
    "ax1.add_patch(e1s)\n",
    "ax1.set_xlabel(\"x (cm)\")\n",
    "ax1.set_ylabel(\"y (cm)\")\n",
    "cbar1 = fig.colorbar(im1)\n",
    "cbar1.set_label(\"log(N)\", rotation=270)"
   ]
  },
  {
   "cell_type": "markdown",
   "metadata": {},
   "source": [
    "##### Write out the smoothed matrix"
   ]
  },
  {
   "cell_type": "code",
   "execution_count": null,
   "metadata": {},
   "outputs": [],
   "source": [
    "with open('matrix_pre.dat','w') as f:\n",
    "    for icell,(wm,em) in enumerate(zip(wsmoothed.flatten(),ematrix.flatten())):\n",
    "        if(wm == 0): wm = int(wm)\n",
    "        if(em == 0): em = int(em)\n",
    "        f.write(\"{} {} {}\\n\".format(icell,wm,em))"
   ]
  },
  {
   "cell_type": "markdown",
   "metadata": {},
   "source": [
    "### Look at a single projection"
   ]
  },
  {
   "cell_type": "code",
   "execution_count": null,
   "metadata": {},
   "outputs": [],
   "source": [
    "#yproj = np.sum(wmatrix,axis=(0,2))\n",
    "#plt.plot(yproj,'.')"
   ]
  },
  {
   "cell_type": "code",
   "execution_count": null,
   "metadata": {},
   "outputs": [],
   "source": [
    "plt.plot(np.sum(wmatrix,axis=(0,1)))\n",
    "plt.xlabel(\"z-plane number\")\n",
    "plt.ylabel(\"Summed counts\")\n",
    "# iz = np.argmax(np.sum(wmatrix,axis=(0,1))) # index of chosen z-plane"
   ]
  },
  {
   "cell_type": "code",
   "execution_count": null,
   "metadata": {},
   "outputs": [],
   "source": []
  },
  {
   "cell_type": "code",
   "execution_count": null,
   "metadata": {},
   "outputs": [],
   "source": []
  },
  {
   "cell_type": "markdown",
   "metadata": {},
   "source": [
    "## Misc. code"
   ]
  },
  {
   "cell_type": "code",
   "execution_count": null,
   "metadata": {},
   "outputs": [],
   "source": [
    "iz = np.argmax(np.sum(wmatrix,axis=(0,1)))\n",
    "fig = plt.figure()\n",
    "fig.set_figheight(4.0)\n",
    "fig.set_figwidth(18.0)\n",
    "\n",
    "mmatrix = wmatrix[:,:,iz]\n",
    "minval = np.min(mmatrix[mmatrix > 0])\n",
    "\n",
    "ax1 = fig.add_subplot(131, aspect='auto')\n",
    "im1 = ax1.imshow(np.log(wmatrix[:,:,iz] + minval/10.).transpose(),\n",
    "            extent=[-worldX/2.0 + BoxX,worldX/2.0 + BoxX,-worldY/2.0 + BoxY,worldY/2.0 + BoxY], \n",
    "            origin = 'lower',\n",
    "            interpolation = \"none\")\n",
    "e1c = patches.Ellipse((0, 0), ri_concrete*2, ri_concrete*2,\n",
    "                     linewidth=2, fill=False, color='white')\n",
    "e1s = patches.Ellipse((0, 0), ri_shield*2, ri_shield*2,\n",
    "                     linewidth=2, fill=False, color='blue')\n",
    "ax1.add_patch(e1c)\n",
    "ax1.add_patch(e1s)\n",
    "ax1.set_xlabel(\"x (cm)\")\n",
    "ax1.set_ylabel(\"y (cm)\")\n",
    "cbar1 = fig.colorbar(im1)\n",
    "cbar1.set_label(\"log(N)\", rotation=270)\n",
    "\n",
    "ax2 = fig.add_subplot(132, aspect='auto')\n",
    "im2 = ax2.imshow(ematrix[:,:,iz].transpose(),\n",
    "            extent=[-worldX/2.0 + BoxX,worldX/2.0 + BoxX,-worldY/2.0 + BoxY,worldY/2.0 + BoxY], \n",
    "            origin = 'lower',\n",
    "            interpolation = \"none\")\n",
    "e2c = patches.Ellipse((0, 0), ri_concrete*2, ri_concrete*2,\n",
    "                     linewidth=2, fill=False, color='white')\n",
    "e2s = patches.Ellipse((0, 0), ri_shield*2, ri_shield*2,\n",
    "                     linewidth=2, fill=False, color='blue')\n",
    "ax2.add_patch(e2c)\n",
    "ax2.add_patch(e2s)\n",
    "ax2.set_xlabel(\"x (cm)\")\n",
    "ax2.set_ylabel(\"y (cm)\")\n",
    "cbar2 = fig.colorbar(im2)\n",
    "cbar2.set_label(\"error\", rotation=270)\n",
    "ax2.set_title(\"Thread-safe\")\n",
    "\n",
    "ax3 = fig.add_subplot(133, aspect='auto')\n",
    "im3 = ax3.imshow(ematrix2[:,:,iz].transpose(),\n",
    "            extent=[-worldX/2.0 + BoxX,worldX/2.0 + BoxX,-worldY/2.0 + BoxY,worldY/2.0 + BoxY], \n",
    "            origin = 'lower',\n",
    "            interpolation = \"none\")\n",
    "e3c = patches.Ellipse((0, 0), ri_concrete*2, ri_concrete*2,\n",
    "                     linewidth=2, fill=False, color='white')\n",
    "e3s = patches.Ellipse((0, 0), ri_shield*2, ri_shield*2,\n",
    "                     linewidth=2, fill=False, color='blue')\n",
    "ax3.add_patch(e3c)\n",
    "ax3.add_patch(e3s)\n",
    "ax3.set_xlabel(\"x (cm)\")\n",
    "ax3.set_ylabel(\"y (cm)\")\n",
    "cbar3 = fig.colorbar(im3)\n",
    "cbar3.set_label(\"error\", rotation=270)\n",
    "ax3.set_title(\"Original method\")"
   ]
  }
 ],
 "metadata": {
  "kernelspec": {
   "display_name": "Python 3 (ipykernel)",
   "language": "python",
   "name": "python3"
  },
  "language_info": {
   "codemirror_mode": {
    "name": "ipython",
    "version": 3
   },
   "file_extension": ".py",
   "mimetype": "text/x-python",
   "name": "python",
   "nbconvert_exporter": "python",
   "pygments_lexer": "ipython3",
   "version": "3.7.6"
  }
 },
 "nbformat": 4,
 "nbformat_minor": 4
}

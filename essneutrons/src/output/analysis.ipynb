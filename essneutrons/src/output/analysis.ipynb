{
 "cells": [
  {
   "cell_type": "code",
   "execution_count": 2,
   "id": "2dad5581",
   "metadata": {},
   "outputs": [
    {
     "name": "stdout",
     "output_type": "stream",
     "text": [
      "['Event', 'Track', 'Parent', 'ParticleName', 'Energy', 'InitTime', 'FinalTime', 'InitVolume', 'CreatorProcess']\n",
      "\n"
     ]
    }
   ],
   "source": [
    "#!/usr/bin/env python\n",
    "# coding: utf-8\n",
    "\n",
    "# Leire Larizgoitia Arcocha\n",
    "\n",
    "from __future__ import division\n",
    "\n",
    "import matplotlib\n",
    "matplotlib.rcParams['text.usetex'] = True\n",
    "from matplotlib import pyplot as plt\n",
    "#plt.rcParams.update({'font.size': 20})\n",
    "import matplotlib.colors as mcolors\n",
    "import matplotlib.ticker as mtick\n",
    "from matplotlib.ticker import MultipleLocator\n",
    "import numpy as np\n",
    "import math\n",
    "\n",
    "import uproot\n",
    "file = uproot.open(\"detHe3_ntuple.root\")\n",
    "\n",
    "'NTUPLE READ'\n",
    "keys =file.keys()\n",
    "events = file['Target']\n",
    "ev_col = events.keys()\n",
    "ev_branches = events.arrays()\n",
    "\n",
    "print(ev_col)\n",
    "print()\n",
    "\n",
    "events_ = ev_branches['Event']\n",
    "track_ = ev_branches['Track']\n",
    "parent_ = ev_branches['Parent']\n",
    "particleName_ = ev_branches['ParticleName']\n",
    "energy_ = ev_branches['Energy']\n",
    "inittime_ = ev_branches['InitTime']\n",
    "finaltime_ = ev_branches['FinalTime']\n",
    "initVol_ = ev_branches['InitVolume']\n",
    "#finalVol_ = ev_branches['FinalVolume']\n",
    "process_ = ev_branches['CreatorProcess']\n"
   ]
  },
  {
   "cell_type": "code",
   "execution_count": 4,
   "id": "19911189",
   "metadata": {},
   "outputs": [
    {
     "name": "stdout",
     "output_type": "stream",
     "text": [
      "Large detetor. Total Particles produced 903744\n",
      "\n"
     ]
    }
   ],
   "source": [
    "#print(particleName_.tolist())\n",
    "\n",
    "print(\"Large detetor. Total Particles produced\", len(events_))\n",
    "\n",
    "partcleIDProduced = []\n",
    "energyDeposit = []\n",
    "for i in range(0,len(events_)):\n",
    "    if events_[i] not in partcleIDProduced:\n",
    "        partcleIDProduced.append(events_[i])\n",
    "        energyDeposit.append(energy_[i])\n",
    "\n",
    "#print(\"Large detetor. Total Daughter Particles produced\", len(partcleIDProduced))\n",
    "print()\n",
    "\n"
   ]
  },
  {
   "cell_type": "code",
   "execution_count": null,
   "id": "ff28e589",
   "metadata": {},
   "outputs": [],
   "source": [
    "print(energyDeposit[])"
   ]
  },
  {
   "cell_type": "code",
   "execution_count": 24,
   "id": "09509a85",
   "metadata": {},
   "outputs": [
    {
     "data": {
      "image/png": "[encoded data removed]",
      "text/plain": [
       "<Figure size 432x288 with 1 Axes>"
      ]
     },
     "metadata": {
      "needs_background": "light"
     },
     "output_type": "display_data"
    }
   ],
   "source": [
    "\n",
    "plt.hist(energy_, bins=100)\n",
    "plt.xlabel('Energy (eV)')\n",
    "plt.ylabel('Counts/bin')\n",
    "plt.xlim(0,4000)\n",
    "plt.grid(True)\n",
    "plt.show()\n",
    "\n"
   ]
  },
  {
   "cell_type": "code",
   "execution_count": 3,
   "id": "28c20e36",
   "metadata": {},
   "outputs": [
    {
     "data": {
      "image/png": "[encoded data removed]",
      "text/plain": [
       "<Figure size 432x288 with 1 Axes>"
      ]
     },
     "metadata": {
      "needs_background": "light"
     },
     "output_type": "display_data"
    },
    {
     "data": {
      "text/plain": [
       "'END OF CODE'"
      ]
     },
     "execution_count": 3,
     "metadata": {},
     "output_type": "execute_result"
    }
   ],
   "source": [
    "\n",
    "# the histogram of the data\n",
    "\n",
    "\n",
    "n, bins, patches = plt.hist(energyDeposit, 1000, density=True, facecolor='g') #len(energy_)\n",
    "\n",
    "plt.xlabel('Energy (eV)')\n",
    "plt.ylabel('Counts/bin')\n",
    "plt.grid(True)\n",
    "plt.show()\n",
    "\n",
    "\n",
    "\n",
    "\n",
    "\"\"\"\n",
    "d = np.sqrt(radBeam_**2 - radEff_**2)\n",
    "\n",
    "angle = math.acos(radBeam_- radEff_)\n",
    "\n",
    "fraction = 2*angle / (2*np.pi)\n",
    "\n",
    "sTriangle_ = 1/2 * 2*d * radBeam_\n",
    "sFraction = sBeam_ * fraction\n",
    "sRest_ = sFraction - sTriangle_\n",
    "sCross_ = sBeam_ - sRest_\n",
    "\n",
    "\n",
    "print(\"Surface Ratio\" , sCross_ /sBeam_)\n",
    "print( sBeam_ /sCross_ * efficiency)\n",
    "\n",
    "\"\"\"\n",
    "# the histogram of the data\n",
    "#n, bins, patches = plt.hist(energy_, 10, density=True, facecolor='g') #len(energy_)\n",
    "\n",
    "#plt.xlabel('Energy (eV)')\n",
    "#plt.ylabel('Counts/bin')\n",
    "#plt.grid(True)\n",
    "#plt.show()\n",
    "\"END OF CODE\"\n",
    "\n"
   ]
  }
 ],
 "metadata": {
  "kernelspec": {
   "display_name": "Python 3 (ipykernel)",
   "language": "python",
   "name": "python3"
  },
  "language_info": {
   "codemirror_mode": {
    "name": "ipython",
    "version": 3
   },
   "file_extension": ".py",
   "mimetype": "text/x-python",
   "name": "python",
   "nbconvert_exporter": "python",
   "pygments_lexer": "ipython3",
   "version": "3.9.12"
  }
 },
 "nbformat": 4,
 "nbformat_minor": 5
}
